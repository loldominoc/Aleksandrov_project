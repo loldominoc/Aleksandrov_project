{
 "cells": [
  {
   "cell_type": "markdown",
   "metadata": {},
   "source": [
    "---\n",
    "title: \"Лабораторна робота №3. Змінні. Базові операції вводу/виводу\"\n",
    "description:\n",
    "  Документ зроблено за допомогою [Quarto](https://quarto.org/)\n",
    "lang: ukr\n",
    "format:\n",
    "  html:\n",
    "    code-fold: true\n",
    "    toc: true # меню\n",
    "    toc_float: # спливаюче меню  \n",
    "      collapsed: true # авто\n",
    "      number_sections: true\n",
    "jupyter: python3\n",
    "---"
   ]
  },
  {
   "cell_type": "markdown",
   "metadata": {},
   "source": [
    "__Мета:__ _освоїти роботу зі змінними та операції вводу і виводу_"
   ]
  },
  {
   "cell_type": "markdown",
   "metadata": {},
   "source": [
    "::: callout-note\n",
    "## Примітка\n",
    "Перед виконанням лабораторної роботи необхідно опрацювати матеріал __Лекції 3__.\n",
    ":::"
   ]
  },
  {
   "cell_type": "markdown",
   "metadata": {},
   "source": [
    "::: callout-note\n",
    "## Примітка\n",
    "У лабораторній роботі використано матеріали [python institute.](https://pythoninstitute.org/pcep) \n",
    ":::"
   ]
  },
  {
   "cell_type": "markdown",
   "metadata": {},
   "source": [
    "### Завдання № 1\n",
    "\n",
    "Написати програму, яка обчислює значення функції Гауса: \n",
    "$$f(x) = \\frac{1}{\\sigma \\sqrt{2 \\pi}} e^{-\\frac{(x-\\mu)^2}{2\\sigma^2}}$$"
   ]
  },
  {
   "cell_type": "code",
   "execution_count": 4,
   "metadata": {},
   "outputs": [
    {
     "name": "stdout",
     "output_type": "stream",
     "text": [
      "0.3989422804014327\n"
     ]
    }
   ],
   "source": [
    "import math\n",
    "\n",
    "x = 0\n",
    "u = 0\n",
    "sigma = 1\n",
    "\n",
    "result = (1 / (sigma * math.sqrt(2 * math.pi))) * math.exp(- (math.pow(x - u, 2) / 2 * sigma ** 2))\n",
    "print(result)"
   ]
  },
  {
   "cell_type": "markdown",
   "metadata": {},
   "source": [
    "###  Завдання № 2"
   ]
  },
  {
   "cell_type": "markdown",
   "metadata": {},
   "source": [
    "Ось невелика розповідь:\n",
    "\n",
    "Якось Джон (John) мав три яблука, Мері (Mary) мала п'ять яблук, а Адам (Adam) мав шість яблук. Усі вони були дуже щасливі та жили довго. Кінець історії.\n",
    "\n",
    "Ваше завдання:\n",
    "\n",
    "* створіть змінні: `john`, `mary`, і `adam`;\n",
    "\n",
    "* надайте значення змінним. Значення повинні дорівнювати кількості фруктів, якими володіють Джон, Мері, і Адам відповідно;\n",
    "\n",
    "* зберігши числа в змінних, виведіть змінні в один рядок і розділіть їх комами;\n",
    "\n",
    "* тепер створіть нову змінну з ім'ям `totalApple`, що дорівнює сумі трьох попередніх змінних;\n",
    "\n",
    "* вивести значення, збережене в `totalapples`, в консоль;\n",
    "\n",
    "* надрукувати рядок та ціле число разом в одному рядку, наприклад, \"Загальна кількість яблук:\" та `total_apples`|."
   ]
  },
  {
   "cell_type": "code",
   "execution_count": 5,
   "metadata": {},
   "outputs": [
    {
     "name": "stdout",
     "output_type": "stream",
     "text": [
      "3, 5, 6\n",
      "14\n",
      "Загальна кількість яблук: 14\n"
     ]
    }
   ],
   "source": [
    "john = 3\n",
    "mary = 5\n",
    "adam = 6\n",
    "\n",
    "\n",
    "print(john, mary, adam, sep=', ')\n",
    "total_apples = john + mary + adam\n",
    "print(total_apples)\n",
    "\n",
    "print(\"Загальна кількість яблук:\", total_apples)"
   ]
  },
  {
   "cell_type": "markdown",
   "metadata": {},
   "source": [
    "### Завдання № 3"
   ]
  },
  {
   "cell_type": "markdown",
   "metadata": {},
   "source": [
    "Милі та кілометри – це одиниці довжини або відстані.\n",
    "\n",
    "Враховуючи, що 1 миля дорівнює приблизно 1.61 кілометрам, напишіть програму, щоб вона перетворила:\n",
    "\n",
    "* милі у кілометри;\n",
    "\n",
    "* кілометри на милі.\n",
    "\n",
    "Не змінюйте нічого в існуючому коді. Напишіть свій код у місцях, вказаних ###. Протестуйте вашу програму з даними, які надано у вихідному коді.\n",
    "\n",
    "Зверніть особливу увагу на те, що відбувається всередині функції `print()`. Проаналізуйте, як ми надаємо кілька аргументів функції та як ми виводимо очікувані дані.\n",
    "\n",
    "Зауважте, що деякі аргументи всередині функції `print()` є рядками (наприклад, `\"miles is\"`, тоді як деякі інші є змінними (наприклад, `miles`)."
   ]
  },
  {
   "cell_type": "code",
   "execution_count": 6,
   "metadata": {},
   "outputs": [
    {
     "name": "stdout",
     "output_type": "stream",
     "text": [
      "7.38 miles is 11.88 kilometers\n",
      "12.25 kilometers is 7.61 miles\n"
     ]
    }
   ],
   "source": [
    "kilometers = 12.25\n",
    "miles = 7.38\n",
    "\n",
    "miles_to_kilometers = miles * 1.61\n",
    "kilometers_to_miles = kilometers / 1.61\n",
    "\n",
    "print(miles, \"miles is\", round(miles_to_kilometers, 2), \"kilometers\")\n",
    "print(kilometers, \"kilometers is\", round(kilometers_to_miles, 2), \"miles\")"
   ]
  },
  {
   "cell_type": "markdown",
   "metadata": {},
   "source": [
    "Очикуваний вивод:\n",
    "\n",
    "`7.38 miles is 11.88 kilometers`\n",
    "\n",
    "`12.25 kilometers is 7.61 miles`"
   ]
  },
  {
   "cell_type": "markdown",
   "metadata": {},
   "source": [
    "### Завдання № 4"
   ]
  },
  {
   "cell_type": "markdown",
   "metadata": {},
   "source": [
    "Подивіться код у редакторі: він читає \"плаваюче\" значення, поміщає його у змінну з ім'ям `x`, і друкує значення змінної з ім'ям `y`. Ваше завдання - завершити код, щоб оцінити такий вираз:\n",
    "\n",
    "$$3x^3 - 2x^2 + 3^x - 1$$\n",
    "\n",
    "Результат має бути присвоєний `y`."
   ]
  },
  {
   "cell_type": "code",
   "execution_count": 15,
   "metadata": {},
   "outputs": [
    {
     "name": "stdout",
     "output_type": "stream",
     "text": [
      "y = 3\n"
     ]
    }
   ],
   "source": [
    "# x = float(input(\"Enter number x: \"))\n",
    "x = 1\n",
    "\n",
    "y = 3 * x ** 3 - 2 * x ** 2 + 3 ** x - 1\n",
    "\n",
    "print(\"y =\", y)"
   ]
  },
  {
   "cell_type": "markdown",
   "metadata": {},
   "source": [
    "__Тестові данні__"
   ]
  },
  {
   "cell_type": "markdown",
   "metadata": {},
   "source": [
    "Приклад вводу\n",
    "\n",
    "`x = 0`\n",
    "\n",
    "`x = 1`\n",
    "\n",
    "`x = -1`"
   ]
  },
  {
   "cell_type": "markdown",
   "metadata": {},
   "source": [
    "Приклад виводу\n",
    "\n",
    "`y = -1.0`\n",
    "\n",
    "`y = 3.0`\n",
    "\n",
    "`y = -9.0`"
   ]
  },
  {
   "cell_type": "markdown",
   "metadata": {},
   "source": [
    "### Завдання № 5 "
   ]
  },
  {
   "cell_type": "markdown",
   "metadata": {},
   "source": [
    "Код редактора містить коментарі. Спробуйте покращити його: додайте або видаліть коментарі там, де ви вважаєте це доречним (так, іноді видалення коментаря може зробити код більш читабельним) і змініть імена змінних там, де, на вашу думку, це покращить розуміння коду."
   ]
  },
  {
   "cell_type": "code",
   "execution_count": 10,
   "metadata": {},
   "outputs": [
    {
     "name": "stdout",
     "output_type": "stream",
     "text": [
      "Hours:  2\n",
      "Seconds in Hours:  7200\n"
     ]
    }
   ],
   "source": [
    "# this program computes the number of seconds in a given number of hours\n",
    "\n",
    "a = 2 # number of hours\n",
    "seconds = 3600 # number of seconds in 1 hour\n",
    "\n",
    "print(\"Hours: \", a) # printing the number of hours\n",
    "print(\"Seconds in Hours: \", a * seconds) # printing the number of seconds in a given number of hours"
   ]
  },
  {
   "cell_type": "markdown",
   "metadata": {},
   "source": [
    "### Завдання № 6 "
   ]
  },
  {
   "cell_type": "markdown",
   "metadata": {},
   "source": [
    "Ваше завдання – завершити код, щоб отримати результати чотирьох основних арифметичних операцій.\n",
    "\n",
    "Результати мають бути виведені у консолі.\n",
    "\n",
    "Можливо, ви не зможете захистити код від користувача, який хоче ділити на нуль. Пізніше ми взнаємо, як це зробити."
   ]
  },
  {
   "cell_type": "code",
   "execution_count": 16,
   "metadata": {},
   "outputs": [
    {
     "name": "stdout",
     "output_type": "stream",
     "text": [
      "Результат додавання: 10\n",
      "Результат віднімання: 0\n",
      "Результат множення: 25\n",
      "Результат ділення: 1.0\n",
      "\n",
      "That's all, folks!\n"
     ]
    }
   ],
   "source": [
    "a = 5 # a = float(input(\"Введіть значення a: \"))\n",
    "b = 5 # b = float(input(\"Введіть значення b: \"))\n",
    "\n",
    "addition_result = a + b\n",
    "print(\"Результат додавання:\", addition_result)\n",
    "\n",
    "subtraction_result = a - b\n",
    "print(\"Результат віднімання:\", subtraction_result)\n",
    "\n",
    "multiplication_result = a * b\n",
    "print(\"Результат множення:\", multiplication_result)\n",
    "\n",
    "division_result = a / b\n",
    "print(\"Результат ділення:\", division_result)\n",
    "\n",
    "print(\"\\nThat's all, folks!\")"
   ]
  },
  {
   "cell_type": "markdown",
   "metadata": {},
   "source": [
    "### Завдання № 7 "
   ]
  },
  {
   "cell_type": "markdown",
   "metadata": {},
   "source": [
    "Ваше завдання -- завершити код, щоб оцінити такий вираз:\n",
    "$$\\frac{1}{x + \\frac{1}{x + \\frac{1}{x + \\frac{1}{x + \\frac{1}{x}}}}}$$\n",
    "\n",
    "\n",
    "Результат має бути присвоєний `y`.\n",
    "\n",
    "Ви можете використовувати додаткові змінні для зменшення виразу (але це не обов'язково). Ретельно тестуйте свій код."
   ]
  },
  {
   "cell_type": "code",
   "execution_count": 17,
   "metadata": {},
   "outputs": [
    {
     "name": "stdout",
     "output_type": "stream",
     "text": [
      "y = 0.625\n"
     ]
    }
   ],
   "source": [
    "x = 1 # x = float(input(\"Enter value for x: \"))\n",
    "\n",
    "y = 1 / (x + 1 / (x + 1 / (x + 1 / (x + 1 / x))))\n",
    "\n",
    "print(\"y =\", y)"
   ]
  },
  {
   "cell_type": "markdown",
   "metadata": {},
   "source": [
    "__Тестові дані__\n",
    "\n",
    "`x = 1`\n",
    "\n",
    "`y = 0.6000000000000001`\n",
    "\n",
    "`x = 10`\n",
    "\n",
    "`y = 0.09901951266867294`\n",
    "\n",
    "`x = 100`\n",
    "\n",
    "`y = 0.009999000199950014`\n",
    "\n",
    "`x = -5`\n",
    "\n",
    "`y = -0.19258202567760344`"
   ]
  },
  {
   "cell_type": "markdown",
   "metadata": {},
   "source": [
    "### Завдання № 8"
   ]
  },
  {
   "cell_type": "markdown",
   "metadata": {},
   "source": [
    "Ваше завдання - підготувати простий код, здатний порахувати час закінчення періоду часу, вираженого в кількості хвилин (воно може бути як завгодно великим). Час початку вказується у вигляді пари годин (0..23) та хвилин (0..59). Результат повинен бути надрукований на консолі.\n",
    "\n",
    "Наприклад, якщо подія починається о __12:17__ і триває __59__ хвилин, вона закінчується о __13:16__.\n",
    "\n",
    "Не турбуйтеся про будь-які недоліки у вашому коді –- це нормально, якщо він приймає неприпустимий час -– найважливіше, що код видає дійсні результати для правильних вхідних даних.\n",
    "\n",
    "Ретельно перевірте код. Підказка: використання оператора `%` може бути ключем до успіху."
   ]
  },
  {
   "cell_type": "code",
   "execution_count": 18,
   "metadata": {},
   "outputs": [
    {
     "name": "stdout",
     "output_type": "stream",
     "text": [
      "Час закінчення: 13:16\n"
     ]
    }
   ],
   "source": [
    "hour = 12 # hour = int(input(\"Starting time (hours): \"))\n",
    "mins = 17 # mins = int(input(\"Starting time (minutes): \"))\n",
    "dura = 59 # dura = int(input(\"Event duration (minutes): \"))\n",
    "\n",
    "t_mins = mins + dura\n",
    "r_hour = hour + t_mins // 60\n",
    "r_mins = t_mins % 60\n",
    "\n",
    "r_hour = r_hour % 24\n",
    "\n",
    "print(f\"Час закінчення: {r_hour:02}:{r_mins:02}\")"
   ]
  },
  {
   "cell_type": "markdown",
   "metadata": {},
   "source": [
    "__Тестові дані__\n",
    "\n",
    "Приклад вводу:\n",
    "\n",
    "`12`\n",
    "\n",
    "`17`\n",
    "\n",
    "`59`"
   ]
  },
  {
   "cell_type": "markdown",
   "metadata": {},
   "source": [
    "Очікуваний результат: `13:16`"
   ]
  },
  {
   "cell_type": "markdown",
   "metadata": {},
   "source": [
    "Приклад вводу:\n",
    "\n",
    "`23`\n",
    "\n",
    "`58`\n",
    "\n",
    "`642`"
   ]
  },
  {
   "cell_type": "markdown",
   "metadata": {},
   "source": [
    "Очікуваний результат: `10:40`"
   ]
  },
  {
   "cell_type": "markdown",
   "metadata": {},
   "source": [
    "Приклад вводу:\n",
    "\n",
    "`0`\n",
    "\n",
    "`1`\n",
    "\n",
    "`2939`"
   ]
  },
  {
   "cell_type": "markdown",
   "metadata": {},
   "source": [
    "Очікуваний результат: `1:0`"
   ]
  },
  {
   "cell_type": "markdown",
   "metadata": {},
   "source": [
    "## Завдання для самостіної роботи\n",
    "\n",
    "1. Виконати завдання 1-8, наведені вище у цьому зошиті.\n",
    "\n",
    "1. Створити файл __lab_3_StudentLastName.py__ з написаним кодом. \n",
    "\n",
    "1. Закомітити файл у локальний репозиторій.\n",
    "\n",
    "1. Відправити поточну версію Git-проєкта у віддалений репозиторій на GitHub.\n",
    "\n",
    "1. Звіт має складатися з файлу (за основу взяти __цей Python-зошит__)  `lab_3_StudentLastName.ipynb`. (Можливі якісь додакові файли)"
   ]
  },
  {
   "cell_type": "markdown",
   "metadata": {},
   "source": [
    "## Контрольні запитання\n",
    "\n",
    "1. Який вивід наступного фрагмента?\n",
    "\n",
    "Цей вираз виконує множення рядка на ціле число, тому вивід буде 555\n",
    "\n",
    "2. Який очікуваний результат наступного фрагмента?\n",
    "\n",
    "У цьому прикладі змінна x отримує значення, введене користувачем через функцію input(), функція input() завжди повертає значення у вигляді рядка (тип str). Тому буде тип str"
   ]
  },
  {
   "cell_type": "markdown",
   "metadata": {},
   "source": [
    "## References"
   ]
  },
  {
   "cell_type": "markdown",
   "metadata": {},
   "source": [
    "1. [GitHub](https://github.com/loldominoc/Aleksandrov_project)\n"
   ]
  }
 ],
 "metadata": {
  "kernelspec": {
   "display_name": "Python 3",
   "language": "python",
   "name": "python3"
  },
  "language_info": {
   "codemirror_mode": {
    "name": "ipython",
    "version": 3
   },
   "file_extension": ".py",
   "mimetype": "text/x-python",
   "name": "python",
   "nbconvert_exporter": "python",
   "pygments_lexer": "ipython3",
   "version": "3.12.6"
  }
 },
 "nbformat": 4,
 "nbformat_minor": 4
}
