{
 "cells": [
  {
   "cell_type": "markdown",
   "metadata": {},
   "source": [
    "---\n",
    "title: 'Лабораторна робота №6. Функції'\n",
    "description:\n",
    "   Документ зроблено за допомогою [Quarto](https://quarto.org/)\n",
    "lang: ukr\n",
    "format:\n",
    "  html:\n",
    "    code-fold: true\n",
    "    toc: true # меню\n",
    "    toc_float: # спливаюче меню  \n",
    "      collapsed: true # авто\n",
    "      number_sections: true\n",
    "jupyter: python3\n",
    "---"
   ]
  },
  {
   "cell_type": "markdown",
   "metadata": {},
   "source": [
    "__Мета:__ _навчитися писати функції та користуватися ними_"
   ]
  },
  {
   "cell_type": "markdown",
   "metadata": {},
   "source": [
    "::: callout-note\n",
    "## Примітка\n",
    "Попередньо потрібно опрацювати лекцію 6.\n",
    ":::"
   ]
  },
  {
   "cell_type": "markdown",
   "metadata": {},
   "source": [
    "::: callout-note\n",
    "## Примітка\n",
    "У лабораторній роботі використано матеріали [python institute.](https://pythoninstitute.org/pcep) \n",
    ":::"
   ]
  },
  {
   "cell_type": "markdown",
   "metadata": {},
   "source": [
    "### Завдання 1\n",
    "\n",
    "Написати і протестувати функцію, яка приймає один аргумент (рік) і повертає `True`, якщо рік є високосним, або `False` інакше.\n",
    "\n",
    "Основу функції вже закладено у коді в редакторі.\n",
    "\n",
    "::: callout-note\n",
    "## Примітка\n",
    "Для вас підготовлено короткий тестуючий код, який можна використовувати для перевірки своєї функції.\n",
    ":::\n",
    "\n",
    "У коді використовуються два списки - один із тестовими даними, інший - з очікуваними результатами. Код повідомить Вам, якщо якісь із Ваших результатів неправильні."
   ]
  },
  {
   "cell_type": "code",
   "execution_count": null,
   "metadata": {},
   "outputs": [
    {
     "name": "stdout",
     "output_type": "stream",
     "text": [
      "1900 -> False\n",
      "OK\n",
      "2000 -> True\n",
      "OK\n",
      "2016 -> True\n",
      "OK\n",
      "1987 -> False\n",
      "OK\n"
     ]
    }
   ],
   "source": [
    "def is_year_leap(year):\n",
    "\treturn (year % 4 == 0 and (year % 100 != 0 or year % 400 == 0)) \n",
    "\n",
    "test_data = [1900, 2000, 2016, 1987]\n",
    "test_results = [False, True, True, False]\n",
    "for i in range(len(test_data)):\n",
    "\tyr = test_data[i]\n",
    "\tprint(yr,\"->\",end=\" \")\n",
    "\tresult = is_year_leap(yr)\n",
    "\tprint(result)\n",
    "\tif result == test_results[i]:\n",
    "\t\tprint(\"OK\")\n",
    "\telse:\n",
    "\t\tprint(\"Failed\")"
   ]
  },
  {
   "cell_type": "markdown",
   "metadata": {},
   "source": [
    "### Завдання 2 "
   ]
  },
  {
   "cell_type": "markdown",
   "metadata": {},
   "source": [
    "Написати та протестувати функцію, яка приймає два аргументи (рік і місяць) і повертає кількість днів для даної пари рік-місяць (у той час, як тільки лютий чутливий до значення `year`, Ваша функція має бути універсальною).\n",
    "\n",
    "Початок функції готовий. Тепер переконайте функцію повернути `None`, якщо її аргументи не мають сенсу.\n",
    "\n",
    "Звичайно, Ви можете (і повинні) використовувати раніше написану та протестовану функцію (див. попередні лаб. роб.). Це може бути дуже корисним. Ми рекомендуємо використовувати список із зазначенням довжини місяців. Ви можете створити його всередині функції – цей трюк значно скоротить код.\n",
    "\n",
    "Ми підготували тестуючий код. Розвійте його, щоб увімкнути більше тестових випадків."
   ]
  },
  {
   "cell_type": "code",
   "execution_count": 17,
   "metadata": {},
   "outputs": [
    {
     "name": "stdout",
     "output_type": "stream",
     "text": [
      "1900 2 -> OK\n",
      "2000 2 -> OK\n",
      "2016 1 -> OK\n",
      "1987 11 -> OK\n"
     ]
    }
   ],
   "source": [
    "def is_year_leap(year):\n",
    "  return (year % 4 == 0 and (year % 100 != 0 or year % 400 == 0))\n",
    "\n",
    "def days_in_month(year, month):\n",
    "  if month < 1 or month > 12:\n",
    "    return None\n",
    "  if year < 1:\n",
    "    return None\n",
    "  \n",
    "  days_in_months = [31, 28, 31, 30, 31, 30, 31, 31, 30, 31, 30, 31]\n",
    "\n",
    "  if month == 2:\n",
    "    if is_year_leap(year):\n",
    "      return 29\n",
    "    else:\n",
    "      return 28\n",
    "    \n",
    "  return days_in_months[month - 1]\n",
    "\n",
    "test_years = [1900, 2000, 2016, 1987]\n",
    "test_months = [2, 2, 1, 11]\n",
    "test_results = [28, 29, 31, 30]\n",
    "for i in range(len(test_years)):\n",
    "  yr = test_years[i]\n",
    "  mo = test_months[i]\n",
    "  print(yr, mo, \"->\", end=\" \")\n",
    "  result = days_in_month(yr, mo)\n",
    "  if result == test_results[i]:\n",
    "    print(\"OK\")\n",
    "  else:\n",
    "    print(\"Failed\")\n"
   ]
  },
  {
   "cell_type": "markdown",
   "metadata": {},
   "source": [
    "### Завдання 3\n",
    "\n",
    "Написати та протестувати функцію, яка приймає три аргументи (рік, місяць та день місяця) та повертає відповідний день року або None, якщо якийсь із аргументів невірний.\n",
    "\n",
    "Використовуйте раніше написані та протестовані функції. Додайте до коду свої власні тестові випадки."
   ]
  },
  {
   "cell_type": "code",
   "execution_count": 27,
   "metadata": {},
   "outputs": [
    {
     "name": "stdout",
     "output_type": "stream",
     "text": [
      "366\n"
     ]
    }
   ],
   "source": [
    "def is_year_leap(year):\n",
    "  return (year % 4 == 0 and (year % 100 != 0 or year % 400 == 0))\n",
    "\n",
    "def days_in_month(year, month):\n",
    "  if month < 1 or month > 12:\n",
    "    return None\n",
    "  if year < 1:\n",
    "    return None\n",
    "  \n",
    "  days_in_months = [31, 28, 31, 30, 31, 30, 31, 31, 30, 31, 30, 31]\n",
    "\n",
    "  if month == 2:\n",
    "    if is_year_leap(year):\n",
    "      return 29\n",
    "    else:\n",
    "      return 28\n",
    "    \n",
    "  return days_in_months[month - 1]\n",
    "\n",
    "def day_of_year(year, month, day):\n",
    "  if year < 1 or month < 1 or month > 12 or day < 1:\n",
    "    return None\n",
    "  \n",
    "  days_in_this_month = days_in_month(year, month)\n",
    "\n",
    "  if day > days_in_this_month:\n",
    "    return None\n",
    "\n",
    "  day_of_year = 0\n",
    "  for i in range(1, month):\n",
    "    day_of_year += days_in_month(year, i)\n",
    "\n",
    "  day_of_year += day\n",
    "\n",
    "  return day_of_year\n",
    "  \n",
    "print(day_of_year(2000, 12, 31))"
   ]
  },
  {
   "cell_type": "markdown",
   "metadata": {},
   "source": [
    "###  Завдання 4"
   ]
  },
  {
   "cell_type": "markdown",
   "metadata": {},
   "source": [
    "Натуральне число є простим, якщо воно більше 1 і не має дільників, крім 1 і самого себе.\n",
    "\n",
    "Важко? Зовсім ні. Наприклад, 8 не є простим числом, оскільки Ви можете розділити його на 2 та 4 (ми не можемо використовувати дільники, рівні 1 та 8, оскільки визначення забороняє це).\n",
    "\n",
    "З іншого боку, 7 - просте число, оскільки ми можемо знайти йому підходящих дільників.\n",
    "\n",
    "\n",
    "Ваше завдання - написати функцію, що перевіряє, чи є число простим чи ні.\n",
    "\n",
    "Функція:\n",
    "\n",
    "* називається `is_prime`;\n",
    "* приймає один аргумент (значення для перевірки)\n",
    "* повертає `True`, якщо аргумент є простим числом, і `False` інакше.  \n",
    "\n",
    "::: callout-note\n",
    "## Підказка\n",
    "Спробуйте розділити аргумент на всі наступні значення (починаючи з 2) і перевірте залишок - якщо він дорівнює нулю, Ваше число не може бути простим; добре подумайте, коли вам слід зупинити процес.\n",
    ":::\n",
    "\n",
    "Якщо вам потрібно знайти квадратний корінь із будь-якого значення, Ви можете використовувати оператор `**`. Пам'ятайте: квадратний корінь `x` дорівнює $x^{0,5}$.\n",
    "\n",
    "Доповніть код у редакторі."
   ]
  },
  {
   "cell_type": "code",
   "execution_count": 31,
   "metadata": {},
   "outputs": [
    {
     "name": "stdout",
     "output_type": "stream",
     "text": [
      "2 3 5 7 11 13 17 19 \n"
     ]
    }
   ],
   "source": [
    "def is_prime(num):\n",
    "  if num < 2:\n",
    "    return False\n",
    "  \n",
    "  for i in range(2, int(num**0.5) + 1):\n",
    "    if num % i == 0:\n",
    "      return False\n",
    "  \n",
    "  return True\n",
    "\n",
    "for i in range(1, 20):\n",
    "  if is_prime(i + 1):\n",
    "    print(i + 1, end=\" \")\n",
    "print()"
   ]
  },
  {
   "cell_type": "markdown",
   "metadata": {},
   "source": [
    "### Очікуваний вивод"
   ]
  },
  {
   "cell_type": "markdown",
   "metadata": {},
   "source": [
    "`2 3 5 7 11 13 17 19`"
   ]
  },
  {
   "cell_type": "markdown",
   "metadata": {},
   "source": [
    "### Завдання 5"
   ]
  },
  {
   "cell_type": "markdown",
   "metadata": {},
   "source": [
    "Витрата палива автомобіля можна висловити по-різному. Наприклад, у Європі він відображається як кількість витраченого палива на 100 кілометрів шляху.\n",
    "\n",
    "У США він відображається як кількість миль, пройдених автомобілем під час витрачання одного галону палива.\n",
    "\n",
    "Ваше завдання - написати дві функції, що конвертують л/100км в миль на галон, і навпаки.\n",
    "\n",
    "Функції:\n",
    "\n",
    "* названі `liters_100km_to_miles_gallon` та `miles_gallon_to_liters_100km` відповідно;\n",
    "* приймають один аргумент (значення, що відповідає їхнім іменам)  \n",
    "\n",
    "Доповніть код у редакторі.\n",
    "\n",
    "Запустіть свій код і перевірте, чи Ваш результат збігається з нашим.\n",
    "\n",
    "Ось деяка інформація, яка може допомогти Вам:\n",
    "\n",
    "* 1 американська мідя = 1609.344 метрів;\n",
    "* 1 американський галон = 3.785411784 літрів."
   ]
  },
  {
   "cell_type": "code",
   "execution_count": 40,
   "metadata": {},
   "outputs": [
    {
     "name": "stdout",
     "output_type": "stream",
     "text": [
      "60.31143162393162\n",
      "31.36194444444444\n",
      "23.52145833333333\n",
      "3.9007393587617467\n",
      "7.490910297239915\n",
      "10.009131205673757\n"
     ]
    }
   ],
   "source": [
    "def liters_100km_to_miles_gallon(liters):\n",
    "  return ((100 / 1.609344) / (liters / 3.785411784))\n",
    "\n",
    "def miles_gallon_to_liters_100km(miles):\n",
    "  return ((100 * 3.785411784) / (miles * 1.609344))\n",
    "\n",
    "print(liters_100km_to_miles_gallon(3.9))\n",
    "print(liters_100km_to_miles_gallon(7.5))\n",
    "print(liters_100km_to_miles_gallon(10.))\n",
    "print(miles_gallon_to_liters_100km(60.3))\n",
    "print(miles_gallon_to_liters_100km(31.4))\n",
    "print(miles_gallon_to_liters_100km(23.5))"
   ]
  },
  {
   "cell_type": "markdown",
   "metadata": {},
   "source": [
    "### Очікуваний вивод"
   ]
  },
  {
   "cell_type": "markdown",
   "metadata": {},
   "source": [
    "`60.31143162393162`  \n",
    "`31.36194444444444`  \n",
    "`23.52145833333333`  \n",
    "`3.9007393587617467`  \n",
    "`7.490910297239916`  \n",
    "`10.009131205673757`"
   ]
  },
  {
   "cell_type": "markdown",
   "metadata": {},
   "source": [
    "### Завдання 6 "
   ]
  },
  {
   "cell_type": "markdown",
   "metadata": {},
   "source": [
    "Написати функцію, яка перевіряє, чи три сторони заданої довжини побудувати трикутник. Вона має повернути `True`, якщо сторони можуть утворити трикутник, і `False` в іншому випадку. У цьому випадку `is_a_triangle(a, b, c)` – гарна назва для такої функції."
   ]
  },
  {
   "cell_type": "code",
   "execution_count": 51,
   "metadata": {},
   "outputs": [
    {
     "name": "stdout",
     "output_type": "stream",
     "text": [
      "False\n"
     ]
    }
   ],
   "source": [
    "def is_a_triangle(a, b, c):\n",
    "  if a + b > c and a + c > b and b + c > a:\n",
    "    return True\n",
    "  else:\n",
    "    return False\n",
    "\n",
    "print(is_a_triangle(5, 20, 7))"
   ]
  },
  {
   "cell_type": "markdown",
   "metadata": {},
   "source": [
    "### Завдання 7 "
   ]
  },
  {
   "cell_type": "markdown",
   "metadata": {},
   "source": [
    "Написати функцію `is_a_right_triangle(a, b, c)`, яка перевіряє, чи є трикутник зі сторонами `a`, `b`, `c` прямокутним. При цьому потрібно використати функцію `is_a_triangle(a, b, c)` з завдання 6. "
   ]
  },
  {
   "cell_type": "code",
   "execution_count": 50,
   "metadata": {},
   "outputs": [
    {
     "name": "stdout",
     "output_type": "stream",
     "text": [
      "True\n"
     ]
    }
   ],
   "source": [
    "def is_a_triangle(a, b, c):\n",
    "  if a + b > c and a + c > b and b + c > a:\n",
    "    return True\n",
    "  else:\n",
    "    return False\n",
    "  \n",
    "def is_a_right_triangle(a, b, c):\n",
    "  if not is_a_triangle(a, b, c):\n",
    "    return False\n",
    "  \n",
    "  s = sorted([a, b, c])\n",
    "  a1 = s[0]\n",
    "  b1 = s[1]\n",
    "  c1 = s[2]\n",
    "\n",
    "  if c1**2 == a1**2 + b1**2:\n",
    "    return True\n",
    "  else:\n",
    "    return False\n",
    "  \n",
    "print(is_a_right_triangle(5, 3, 4))"
   ]
  },
  {
   "cell_type": "markdown",
   "metadata": {},
   "source": [
    "## Завдання для самостіної роботи\n",
    "\n",
    "1. Виконати завдання 1-7 наведені вище у цьому зошиті.\n",
    "\n",
    "1. Створити файл __lab_6_StudentLastName.py__ з написаним кодом. \n",
    "\n",
    "1. Закомітити файл у локальний репозиторій.\n",
    "\n",
    "1. Відправити (\"запушити\") поточну версію Git-проєкта у віддалений репозиторій на GitHub.\n",
    "\n",
    "1. Звіт має складатися з файлу (за основу взяти __цей Python-зошит__)  `lab_6_StudentLastName.ipynb`. (Можливі якісь додакові файли)"
   ]
  },
  {
   "cell_type": "markdown",
   "metadata": {},
   "source": [
    "## Контрольні запитання\n",
    "\n",
    "1. Який вивід наступного фрагмента?  \n",
    "\n",
    "\n",
    "  На консоль виведе помилку, тому що змінна alt невизначена, вона тільки доступна всередині функції message().\n",
    "\n",
    "2. Який вивід наступного фрагмента?  \n",
    "\n",
    "\n",
    "  На консоль вивід буде наступним:\n",
    "  \n",
    "  2\n",
    "  \n",
    "  1\n",
    "\n",
    "  Значення a було визначено як 1, тоді як у функції її значення було змінено, але через те що в тілі функції, зміни ніяк не впливають по за нею, тому не вивело два однакових значення.\n",
    "\n",
    "3. Який вивід наступного фрагмента?  \n",
    "\n",
    "\n",
    "  На консоль вивід буде наступним:\n",
    "  \n",
    "  2\n",
    "  \n",
    "  3\n",
    "\n",
    "  Ключове слово global у Python дозволяє змінювати глобальні змінні у функції, тому після виклику функції вивело значення, яке було змінено в тілі функції.\n",
    "\n",
    "4. Який вивід наступного фрагмента?  \n",
    "\n",
    "\n",
    "  На консоль вивід буде наступним:\n",
    "  \n",
    "  2\n",
    "  \n",
    "  2\n",
    "\n",
    "  Через те що виклик функції перевизначив змінну a на значення 2, яка знаходиться в тілі функції, тому вивід змінної a через функцію виводу, виведе значення, те яке в тілі функції fun().\n"
   ]
  },
  {
   "cell_type": "markdown",
   "metadata": {},
   "source": [
    "## References"
   ]
  },
  {
   "cell_type": "markdown",
   "metadata": {},
   "source": [
    "1. [GitHub](https://github.com/loldominoc/Aleksandrov_project)"
   ]
  }
 ],
 "metadata": {
  "kernelspec": {
   "display_name": "Python 3",
   "language": "python",
   "name": "python3"
  },
  "language_info": {
   "codemirror_mode": {
    "name": "ipython",
    "version": 3
   },
   "file_extension": ".py",
   "mimetype": "text/x-python",
   "name": "python",
   "nbconvert_exporter": "python",
   "pygments_lexer": "ipython3",
   "version": "3.13.0"
  }
 },
 "nbformat": 4,
 "nbformat_minor": 4
}
