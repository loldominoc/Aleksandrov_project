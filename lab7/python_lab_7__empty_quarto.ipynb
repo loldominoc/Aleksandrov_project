{
 "cells": [
  {
   "cell_type": "markdown",
   "metadata": {},
   "source": [
    "---\n",
    "title: 'Лабораторна робота №7. Словники, кортежі. Обробка винятків (empty)'\n",
    "description:\n",
    "   Документ зроблено за допомогою [Quarto](https://quarto.org/)\n",
    "lang: ukr\n",
    "format:\n",
    "  html:\n",
    "    code-fold: true\n",
    "    toc: true # меню\n",
    "    toc_float: # спливаюче меню  \n",
    "      collapsed: true # авто\n",
    "      number_sections: true\n",
    "jupyter: python3\n",
    "---"
   ]
  },
  {
   "cell_type": "markdown",
   "metadata": {},
   "source": [
    "__Мета:__ _навчитися працювати зі структурами даних Кортеж та Словник. Навчитись обробляти основні типи винятків_"
   ]
  },
  {
   "cell_type": "markdown",
   "metadata": {},
   "source": [
    "::: callout-note\n",
    "## Примітка\n",
    "Попередньо потрібно опрацювати лекцію 7.\n",
    ":::"
   ]
  },
  {
   "cell_type": "markdown",
   "metadata": {},
   "source": [
    "::: callout-note\n",
    "## Примітка\n",
    "У лабораторній роботі використано матеріали [python institute.](https://pythoninstitute.org/pcep) \n",
    ":::"
   ]
  },
  {
   "cell_type": "markdown",
   "metadata": {},
   "source": [
    "### Завдання 1"
   ]
  },
  {
   "cell_type": "markdown",
   "metadata": {},
   "source": [
    "Напишіть програму, яка створює кортеж зі списку чисел, а потім виводить на екран всі числа, які менші за задане число `n`. Умова: користувач вводить число `n`, і   щоб створити новий список `result`, який містить всі числа з кортежу, які менші за `n`, реалізувати за допомогою генератора списків."
   ]
  },
  {
   "cell_type": "code",
   "execution_count": null,
   "metadata": {},
   "outputs": [
    {
     "name": "stdout",
     "output_type": "stream",
     "text": [
      "['d:\\\\Program Files\\\\Python\\\\python313.zip', 'd:\\\\Program Files\\\\Python\\\\DLLs', 'd:\\\\Program Files\\\\Python\\\\Lib', 'd:\\\\Program Files\\\\Python', '', 'C:\\\\Users\\\\Arthur\\\\AppData\\\\Roaming\\\\Python\\\\Python313\\\\site-packages', 'C:\\\\Users\\\\Arthur\\\\AppData\\\\Roaming\\\\Python\\\\Python313\\\\site-packages\\\\win32', 'C:\\\\Users\\\\Arthur\\\\AppData\\\\Roaming\\\\Python\\\\Python313\\\\site-packages\\\\win32\\\\lib', 'C:\\\\Users\\\\Arthur\\\\AppData\\\\Roaming\\\\Python\\\\Python313\\\\site-packages\\\\Pythonwin', 'd:\\\\Program Files\\\\Python\\\\Lib\\\\site-packages', 'd:\\\\Program Files\\\\Python\\\\Lib\\\\site-packages\\\\win32', 'd:\\\\Program Files\\\\Python\\\\Lib\\\\site-packages\\\\win32\\\\lib', 'd:\\\\Program Files\\\\Python\\\\Lib\\\\site-packages\\\\Pythonwin']\n",
      "Числа з кортежу, які менші за 15 : [10, 4, 2, 11, 7, 6]\n"
     ]
    }
   ],
   "source": [
    "numbers = [10, 4, 43, 2, 11, 19, 7, 6, 32]\n",
    "\n",
    "numbers_tuple = tuple(numbers)\n",
    "\n",
    "n = 15 # n = int(input(\"Введіть число n: \"))\n",
    "\n",
    "rslt = [num for num in numbers_tuple if num < n]\n",
    "\n",
    "print(\"Числа з кортежу, які менші за\", n, ':', rslt)"
   ]
  },
  {
   "cell_type": "markdown",
   "metadata": {},
   "source": [
    "### Завдання 2\n",
    "Напишіть програму, яка створює кортеж з трьох елементів, які є рядками, та з'єднує їх в один рядок з комою як роздільником. Примітка: з'єднати рядки також можна за допомогою методу `.joint()`"
   ]
  },
  {
   "cell_type": "code",
   "execution_count": 4,
   "metadata": {},
   "outputs": [
    {
     "name": "stdout",
     "output_type": "stream",
     "text": [
      "('Alice', 'John', 'Tom')\n",
      "Alice, John, Tom\n"
     ]
    }
   ],
   "source": [
    "names = (\"Alice\", \"John\", \"Tom\")\n",
    "print(names)\n",
    "\n",
    "rslt = \", \".join(names)\n",
    "\n",
    "print(rslt)"
   ]
  },
  {
   "cell_type": "markdown",
   "metadata": {},
   "source": [
    "### Завдання 3 "
   ]
  },
  {
   "cell_type": "markdown",
   "metadata": {},
   "source": [
    "Створіть словник, який містить інформацію про книги в бібліотеці. Ключами будуть назви книг, а значеннями - автори, рік видання та кількість сторінок. Виведіть на екран інформацію про книгу, введену користувачем."
   ]
  },
  {
   "cell_type": "code",
   "execution_count": null,
   "metadata": {},
   "outputs": [
    {
     "name": "stdout",
     "output_type": "stream",
     "text": [
      "Назва: 1984\n",
      "Автор: George Orwell\n",
      "Кількість сторінок: 328\n",
      "Рік видання: 1949\n"
     ]
    }
   ],
   "source": [
    "book = {\n",
    "    \"name\": \"1984\",\n",
    "    \"author\": \"George Orwell\",\n",
    "    \"number_of_pages\": 328,\n",
    "    \"year_of_publication\": 1949\n",
    "}\n",
    "\n",
    "print(f\"Назва: {book['name']}\")\n",
    "print(f\"Автор: {book['author']}\")\n",
    "print(f\"Кількість сторінок: {book['number_of_pages']}\")\n",
    "print(f\"Рік видання: {book['year_of_publication']}\")"
   ]
  },
  {
   "cell_type": "markdown",
   "metadata": {},
   "source": [
    "### Завдання 4"
   ]
  },
  {
   "cell_type": "markdown",
   "metadata": {},
   "source": [
    "Напишіть програму, яка створює словник, що містить інформацію про студентів, використовуючи вказані кортежі в якості значень. Кожен ключ -- це прізвище студента. Виведіть на екран інформацію про студента, введеного користувачем."
   ]
  },
  {
   "cell_type": "code",
   "execution_count": 17,
   "metadata": {},
   "outputs": [
    {
     "name": "stdout",
     "output_type": "stream",
     "text": [
      "Ім'я: Олександр\n",
      "Вік: 20\n",
      "Середній бал: 5.0\n"
     ]
    }
   ],
   "source": [
    "students = {\n",
    "  \"Іванов\": (\"Іван\", 19, 4.1),\n",
    "  \"Шевченко\":(\"Ольга, 20, 4.8\"),\n",
    "  \"Кондра\":(\"Олександр\", 20, 5.0)\n",
    "}\n",
    "\n",
    "surname = \"Кондра\" # surname = input(\"Введіть прізвище: \")\n",
    "\n",
    "name, age, average_grade = students[surname]\n",
    "\n",
    "if surname in students:\n",
    "  name, age, average_grade = students[surname]\n",
    "\n",
    "  print(f\"Ім'я: {name}\")\n",
    "  print(f\"Вік: {age}\")\n",
    "  print(f\"Середній бал: {average_grade}\")\n",
    "else:\n",
    "  print(\"Такого студента немає.\")"
   ]
  },
  {
   "cell_type": "markdown",
   "metadata": {},
   "source": [
    "### Завдання 5"
   ]
  },
  {
   "cell_type": "markdown",
   "metadata": {},
   "source": [
    "Створіть словник, який містить інформацію про більше, ніж один номер телефону для кожного з контактів в телефонній книзі. Ключами будуть імена контактів, а значеннями - список їхніх номерів телефонів. Напишіть функцію, яка дозволяє додати новий номер телефону до списку номерів телефону певного контакту. Потім виведіть на екран список номерів телефонів для всіх контактів."
   ]
  },
  {
   "cell_type": "code",
   "execution_count": 21,
   "metadata": {},
   "outputs": [
    {
     "name": "stdout",
     "output_type": "stream",
     "text": [
      "Телефонна книга:\n",
      "Контакт: Іван, Номери: 123-4567, 234-5678\n",
      "Контакт: Ольга, Номери: 340-6780\n",
      "Контакт: Петро, Номери: 446-7890, 567-0901, 678-9002\n",
      "\n",
      "Номер 444-8888 додано до контакту Ольга.\n",
      "Номер 912-4545 додано до контакту Ольга.\n",
      "Номер 777-7777 додано до контакту Іван.\n",
      "Контакт Олександр не знайдено в телефонній книзі.\n",
      "\n",
      "Телефонна книга:\n",
      "Контакт: Іван, Номери: 123-4567, 234-5678, 777-7777\n",
      "Контакт: Ольга, Номери: 340-6780, 444-8888, 912-4545\n",
      "Контакт: Петро, Номери: 446-7890, 567-0901, 678-9002\n"
     ]
    }
   ],
   "source": [
    "def add_phone_number(name, number):\n",
    "  if name in phone_book:\n",
    "    phone_book[name].append(number)\n",
    "    print(f\"Номер {number} додано до контакту {name}.\")\n",
    "  else:\n",
    "    print(f\"Контакт {name} не знайдено в телефонній книзі.\")\n",
    "\n",
    "phone_book = {\n",
    "    \"Іван\": [\"123-4567\", \"234-5678\"],\n",
    "    \"Ольга\": [\"340-6780\"],\n",
    "    \"Петро\": [\"446-7890\", \"567-0901\", \"678-9002\"],\n",
    "}\n",
    "\n",
    "print(\"Телефонна книга:\")\n",
    "for i, j in phone_book.items():\n",
    "  print(f\"Контакт: {i}, Номери: {', '.join(j)}\")\n",
    "\n",
    "print('')\n",
    "add_phone_number(\"Ольга\", \"444-8888\")\n",
    "add_phone_number(\"Ольга\", \"912-4545\")\n",
    "add_phone_number(\"Іван\", \"777-7777\")\n",
    "add_phone_number(\"Олександр\", \"666-6666\")\n",
    "\n",
    "print(\"\\nТелефонна книга:\")\n",
    "for i, j in phone_book.items():\n",
    "  print(f\"Контакт: {i}, Номери: {', '.join(j)}\")"
   ]
  },
  {
   "cell_type": "markdown",
   "metadata": {},
   "source": [
    "## Завдання для самостіної роботи\n",
    "\n",
    "1. Виконати завдання 1-5 наведені вище у цьому зошиті.\n",
    "\n",
    "1. Створити файл __lab_7_StudentLastName.py__ з написаним кодом. \n",
    "\n",
    "1. Закомітити файл у локальний репозиторій.\n",
    "\n",
    "1. Відправити (\"запушити\") поточну версію Git-проєкта у віддалений репозиторій на GitHub.\n",
    "\n",
    "1. Звіт має складатися з файлу (за основу взяти __цей Python-зошит__)  `lab_7_StudentLastName.ipynb`. (Можливі якісь додакові файли)"
   ]
  },
  {
   "cell_type": "markdown",
   "metadata": {},
   "source": [
    "## Контрольні запитання\n",
    "\n",
    "1. Що виведе наступний код?\n",
    "```\n",
    "my_tuple = (1, 2, 3)\n",
    "print(my_tuple[1:])\n",
    "```\n",
    "  Виведе: (2, 3)\n",
    "\n",
    "  Операція my_tuple[1:] створює новий кортеж, який містить усі елементи, починаючи з індексу 1 до кінця. Отже, виводиться кортеж, що містить 2 і 3.\n",
    "\n",
    "2. Що виведе наступний код?\n",
    "```\n",
    "my_dict = {'a': 1, 'b': 2, 'c': 3}\n",
    "print(my_dict.get('d', 4))\n",
    "```\n",
    "  Виведе: 4\n",
    "\n",
    "  Метод get() намагається знайти ключ 'd' у словнику. Оскільки ключа немає, він повертає значення за замовчуванням, яке дорівнює 4.\n",
    "\n",
    "3. Що виведе наступний код?\n",
    "```\n",
    "my_tuple = (1, 2, 3)\n",
    "my_tuple[0] = 4\n",
    "print(my_tuple)\n",
    "```\n",
    "  Виведе: Помилку\n",
    "\n",
    "  Пояснення: Кортежі в Python є незмінними. Спроба змінити значення my_tuple[0] викличе помилку типу TypeError.\n",
    "\n",
    "4. Що виведе наступний код?\n",
    "```\n",
    "my_dict = {'a': 1, 'b': 2, 'c': 3}\n",
    "my_dict.update({'d': 4})\n",
    "print(my_dict)\n",
    "```\n",
    "  Виведе: {'a': 1, 'b': 2, 'c': 3, 'd': 4}\n",
    "  \n",
    "  Метод update() додає або оновлює елементи словника. У цьому випадку він додає новий ключ 'd' зі значенням 4 до словника my_dict."
   ]
  },
  {
   "cell_type": "markdown",
   "metadata": {},
   "source": [
    "## References"
   ]
  },
  {
   "cell_type": "markdown",
   "metadata": {},
   "source": [
    "1. [Github](https://github.com/loldominoc/Aleksandrov_project)"
   ]
  }
 ],
 "metadata": {
  "kernelspec": {
   "display_name": "Python 3",
   "language": "python",
   "name": "python3"
  },
  "language_info": {
   "codemirror_mode": {
    "name": "ipython",
    "version": 3
   },
   "file_extension": ".py",
   "mimetype": "text/x-python",
   "name": "python",
   "nbconvert_exporter": "python",
   "pygments_lexer": "ipython3",
   "version": "3.13.0"
  }
 },
 "nbformat": 4,
 "nbformat_minor": 4
}
