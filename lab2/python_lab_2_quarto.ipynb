{
 "cells": [
  {
   "cell_type": "markdown",
   "metadata": {},
   "source": [
    "---\n",
    "title: \"Лабораторна робота №2. Функція `print()`\"\n",
    "description:\n",
    "  Документ зроблено за допомогою [Quarto](https://quarto.org/)\n",
    "lang: ukr\n",
    "format:\n",
    "  html:\n",
    "    code-fold: true\n",
    "    toc: true # меню\n",
    "    toc_float: # спливаюче меню  \n",
    "      collapsed: true # авто\n",
    "      number_sections: true\n",
    "jupyter: python3\n",
    "---"
   ]
  },
  {
   "cell_type": "markdown",
   "metadata": {},
   "source": [
    "__Мета:__ _навчитися писати і запускати найпростіші програми на Python з використанням функції `print()`_"
   ]
  },
  {
   "cell_type": "markdown",
   "metadata": {},
   "source": [
    "::: callout-note\n",
    "## Примітка\n",
    "Перед виконанням лабораторної роботи необхідно опрацювати матеріал __Лекції 2__.\n",
    ":::"
   ]
  },
  {
   "cell_type": "markdown",
   "metadata": {},
   "source": [
    "::: callout-note\n",
    "## Примітка\n",
    "У лабораторній роботі використано матеріали [python institute.](https://pythoninstitute.org/pcep) \n",
    ":::"
   ]
  },
  {
   "cell_type": "markdown",
   "metadata": {},
   "source": [
    "1. Змінити код програми, щоби очікуваний результат виглядав наступним чином:"
   ]
  },
  {
   "cell_type": "markdown",
   "metadata": {},
   "source": [
    "`Programming***Essentials***in...Python`"
   ]
  },
  {
   "cell_type": "code",
   "execution_count": 1,
   "metadata": {},
   "outputs": [
    {
     "name": "stdout",
     "output_type": "stream",
     "text": [
      "Programming***Essential***in...Python\n"
     ]
    }
   ],
   "source": [
    "print(\"Programming\", \"Essential\", \"in\", sep = '***', end = '...')\n",
    "print(\"Python\")"
   ]
  },
  {
   "cell_type": "markdown",
   "metadata": {},
   "source": [
    "2. Написати програму, яка виводила б на екран наступну картинку:"
   ]
  },
  {
   "cell_type": "code",
   "execution_count": 2,
   "metadata": {},
   "outputs": [
    {
     "name": "stdout",
     "output_type": "stream",
     "text": [
      "     *\n",
      "    * *\n",
      "   *   *\n",
      "  *     *\n",
      " ***   ***\n",
      "   *   *\n",
      "   *   *\n",
      "   *****\n"
     ]
    }
   ],
   "source": [
    "print('     *\\n'\n",
    "      '    *','*\\n'\n",
    "      '   *','  *\\n'\n",
    "      '  *','    *\\n'\n",
    "      ' ***', '  ***\\n'\n",
    "      '   *', '  *\\n'\n",
    "      '   *', '  *\\n'\n",
    "      '   *****')"
   ]
  },
  {
   "cell_type": "markdown",
   "metadata": {},
   "source": [
    "3. Вивести на екран наступний рядок:"
   ]
  },
  {
   "cell_type": "markdown",
   "metadata": {},
   "source": [
    "`I'm student`"
   ]
  },
  {
   "cell_type": "code",
   "execution_count": 3,
   "metadata": {},
   "outputs": [
    {
     "name": "stdout",
     "output_type": "stream",
     "text": [
      "I'm student\n"
     ]
    }
   ],
   "source": [
    "print(\"I'm student\")"
   ]
  },
  {
   "cell_type": "markdown",
   "metadata": {},
   "source": [
    "4. Написати фрагмент кода в один рядок, використовуючи функцію `print()`, а також символи нового рядка та esсape-символи, щоби відповідати очикуваному результату, виведеному у трьох рядках: "
   ]
  },
  {
   "cell_type": "code",
   "execution_count": 4,
   "metadata": {},
   "outputs": [
    {
     "name": "stdout",
     "output_type": "stream",
     "text": [
      "\"I'm\"\n",
      "\"\"learning\"\"\n",
      "\"\"\"Python\"\"\"\n"
     ]
    }
   ],
   "source": [
    "print('\"I\\'m\"\\n\\\"\\\"learning\\\"\\\"\\n\\\"\\\"\\\"Python\\\"\\\"\\\"')"
   ]
  },
  {
   "cell_type": "markdown",
   "metadata": {},
   "source": [
    "5. Чому в десятковій системі дорівнює $500_8$? Написати код на Python."
   ]
  },
  {
   "cell_type": "code",
   "execution_count": 5,
   "metadata": {},
   "outputs": [
    {
     "name": "stdout",
     "output_type": "stream",
     "text": [
      "320\n"
     ]
    }
   ],
   "source": [
    "print((5 * 8 ** 2) + (0 * 8 ** 1) + (0 * 8 ** 0))"
   ]
  },
  {
   "cell_type": "markdown",
   "metadata": {},
   "source": [
    "6. Чому в десятковій системі дорівнює $777_{16}$? Написати код на Python."
   ]
  },
  {
   "cell_type": "code",
   "execution_count": 6,
   "metadata": {},
   "outputs": [
    {
     "name": "stdout",
     "output_type": "stream",
     "text": [
      "1911\n"
     ]
    }
   ],
   "source": [
    "print((7 * 16 ** 2) + (7 * 16 ** 1) + (7 * 16 ** 0))"
   ]
  },
  {
   "cell_type": "markdown",
   "metadata": {},
   "source": [
    "## Завдання для самостіної роботи\n",
    "\n",
    "1. Виконати п. 1-6, наведені вище у цьому зошиті.\n",
    "\n",
    "2. Створити файл __lab_2_StudentLastName.py__ з написаним кодом.\n",
    "\n",
    "  \n",
    "\n",
    "3. Закомітити файл у локальний репозиторій.\n",
    "\n",
    "  \n",
    "\n",
    "4. Відправити (\"запушити\") поточну версію Git-проєкта у віддалений репозиторій на GitHub.\n",
    "\n",
    "  \n",
    "\n",
    "5. Звіт має складатися з файлу (за основу взяти __цей Python-зошит__)  `lab_2_StudentLastName.ipynb`."
   ]
  },
  {
   "cell_type": "markdown",
   "metadata": {},
   "source": [
    "## Контрольні запитання\n",
    "\n",
    "1. Записати ієрархію операторів.\n",
    "\n",
    "  * () - дужки\n",
    "  * ** - піднесення до степеня (exponentiation)\n",
    "  * *, /, //, % - множення, ділення, цілочисельне ділення, остача\n",
    "  * +, - - додавання, віднімання\n",
    "  * <<, >> - бітові зсуви\n",
    "  * & - бітове І\n",
    "  * ^ - бітове XOR\n",
    "  * | - бітове АБО\n",
    "  * <, <=, >, >=, ==, != - порівняння\n",
    "  * is, is not, in, not in - членство та ідентичність\n",
    "  * not - логічне заперечення\n",
    "  * and - логічне І\n",
    "  * or - логічне АБО\n",
    "  * if-else - умовний вираз\n",
    "  * =, +=, -=, *=, /=, //=, %=, ****=**, &=, |=, ^=, <<=, >>= - оператори присвоєння\n",
    "\n",
    "2. Записати на Python обчислення виразу $3^{3^4}$\n",
    "\n",
    "    x = 3 ** 3 ** 4\n",
    "    \n",
    "    print(x)\n",
    "\n",
    "3. Що робить escape-символ \\n при виводі на екран функцією `print()`?\n",
    "\n",
    "  Escape-символ `\\n` у Python представляє собою новий рядок (line break). Коли ви використовуєте його в рядку, він змушує `print()` перейти на новий рядок."
   ]
  },
  {
   "cell_type": "markdown",
   "metadata": {},
   "source": [
    "## References"
   ]
  },
  {
   "cell_type": "markdown",
   "metadata": {},
   "source": [
    "1. [GitHub](https://github.com/loldominoc/Aleksandrov_project)"
   ]
  }
 ],
 "metadata": {
  "kernelspec": {
   "display_name": "Python 3 (ipykernel)",
   "language": "python",
   "name": "python3"
  },
  "language_info": {
   "codemirror_mode": {
    "name": "ipython",
    "version": 3
   },
   "file_extension": ".py",
   "mimetype": "text/x-python",
   "name": "python",
   "nbconvert_exporter": "python",
   "pygments_lexer": "ipython3",
   "version": "3.12.6"
  }
 },
 "nbformat": 4,
 "nbformat_minor": 4
}
